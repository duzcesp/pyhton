{
 "cells": [
  {
   "cell_type": "code",
   "execution_count": null,
   "id": "918766f1",
   "metadata": {},
   "outputs": [],
   "source": [
    "import pygame\n",
    "pygame.init()import pygame\n",
    "\n",
    "pygame.init()\n",
    "\n",
    "genislik_yukseklik=(450,300)\n",
    "\n",
    "pencere=pygame.display.set_mode(genislik_yukseklik)\n",
    "\n",
    "durum=True\n",
    "while durum:\n",
    "    for etkinlik in pygame.event.get():\n",
    "        print(etkinlik)\n",
    "        if etkinlik.type == pygame.QUIT:\n",
    "            durum=False\n",
    "\n",
    "pygame.quit()\n"
   ]
  }
 ],
 "metadata": {
  "kernelspec": {
   "display_name": "Python 3 (ipykernel)",
   "language": "python",
   "name": "python3"
  },
  "language_info": {
   "codemirror_mode": {
    "name": "ipython",
    "version": 3
   },
   "file_extension": ".py",
   "mimetype": "text/x-python",
   "name": "python",
   "nbconvert_exporter": "python",
   "pygments_lexer": "ipython3",
   "version": "3.11.4"
  }
 },
 "nbformat": 4,
 "nbformat_minor": 5
}
